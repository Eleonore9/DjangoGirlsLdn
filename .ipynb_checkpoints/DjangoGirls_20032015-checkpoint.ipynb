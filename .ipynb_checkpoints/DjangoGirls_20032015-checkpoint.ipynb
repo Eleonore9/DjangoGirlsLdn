{
 "metadata": {
  "celltoolbar": "Slideshow",
  "name": "",
  "signature": "sha256:8f00ed5dca17c4cb16d1ada2f380f8acea69a2558361f506582a38176efeb477"
 },
 "nbformat": 3,
 "nbformat_minor": 0,
 "worksheets": [
  {
   "cells": [
    {
     "cell_type": "markdown",
     "metadata": {
      "slideshow": {
       "slide_type": "slide"
      }
     },
     "source": [
      "#So you wanna work with computers\n",
      "\n",
      "\n",
      "##(Not all web developers)\n",
      "\n",
      "\n",
      "\n",
      "#####Eleonore Mayola\n",
      "\n",
      "@EleonoreMayola\n",
      "\n",
      "co-organiser at @PyLadiesLondon"
     ]
    },
    {
     "cell_type": "markdown",
     "metadata": {
      "slideshow": {
       "slide_type": "slide"
      }
     },
     "source": [
      "##Yes, everyone can learn to code!\n",
      "\n",
      "####-> hobby or (part of) your job\n",
      "\n",
      "I learned > 2 years ago at @Hackbright Academy\n",
      "\n",
      "I'm currently a *junior* Data Scientist @MastodonC\n"
     ]
    },
    {
     "cell_type": "markdown",
     "metadata": {
      "slideshow": {
       "slide_type": "slide"
      }
     },
     "source": [
      "##People working with computers are:\n",
      "\n",
      "####-> Web devs, web designers, software eng (desktop, mobile, games...), QA, devOps, Sys Admin,  Hardware eng, Data engineers, Data Analysts/Scientists...\n"
     ]
    },
    {
     "cell_type": "markdown",
     "metadata": {
      "slideshow": {
       "slide_type": "slide"
      }
     },
     "source": [
      "##Data is in the air!\n",
      "\n",
      "####-> Data Scientist has become the \"sexiest\" job title\n",
      "####-> ... but what is it really?\n",
      "\n",
      "\n",
      ">\"It's a high-ranking professional with the training and curiosity to make \n",
      "discoveries in the world of big data.\" \n",
      "\n",
      "    - Thomas H. Davenport & D.J. Patil, Harvard Business Review, issue October 2012\n"
     ]
    },
    {
     "cell_type": "markdown",
     "metadata": {
      "slideshow": {
       "slide_type": "slide"
      }
     },
     "source": [
      "##So basically a data scientist:\n",
      "\n",
      "####-> makes sense of data to get insights / trends.\n",
      "####-> makes predictions based on data anlysis.\n"
     ]
    },
    {
     "cell_type": "markdown",
     "metadata": {
      "slideshow": {
       "slide_type": "slide"
      }
     },
     "source": [
      "##What I like\n",
      "\n",
      "**Data is everywhere**. \n",
      "It's generated continuously.\n",
      "\n",
      "####-> You can use it to have fun, solve problems, improve businesses, generate art...\n",
      "\n",
      "####-> Data is more and more open.\n",
      "####-> Internet of Things means more sensors and therefore more data!\n"
     ]
    },
    {
     "cell_type": "markdown",
     "metadata": {
      "slideshow": {
       "slide_type": "slide"
      }
     },
     "source": [
      "##Thank you##\n",
      "\n",
      "####You can find me -> @EleonoreMayola\n",
      "\n",
      "######Resources:\n",
      "- [hbr.org/2012/10/data-scientist-the-sexiest-job-of-the-21st-century/ar/1](http://hbr.org/2012/10/data-scientist-the-sexiest-job-of-the-21st-century/ar/1)\n",
      "- [blogs.nature.com/naturejobs/2013/03/18/so-you-want-to-be-a-data-scientist](http://blogs.nature.com/naturejobs/2013/03/18/so-you-want-to-be-a-data-scientist)\n",
      "- [Dataquest.io](http://dataquest.io/)\n",
      "    \n",
      "######Join PyLadies London: [meetup.com/pyladieslondon/](http://www.meetup.com/pyladieslondon/) \n",
      "\n",
      "######Also join:\n",
      "* Women in Data\n",
      "* Women Who Code London\n",
      "* Ladies Who Code London\n",
      "* Codebar London\n",
      "* ...\n"
     ]
    },
    {
     "cell_type": "code",
     "collapsed": false,
     "input": [
      "from IPython.display import display, HTML\n",
      "s = \"\"\"\n",
      "\n",
      "<style>\n",
      "\n",
      ".rendered_html {\n",
      "    font-family: \"proxima-nova\", helvetica;\n",
      "    font-size: 150%;\n",
      "    line-height: 1.3;\n",
      "}\n",
      "\n",
      ".rendered_html h1 {\n",
      "    margin: 0.25em 0em 0.5em;\n",
      "    color: #349675;\n",
      "    text-align: center;\n",
      "    line-height: 1.2; \n",
      "    page-break-before: always;\n",
      "}\n",
      "\n",
      ".rendered_html h2 {\n",
      "    margin: 1.1em 0em 0.5em;\n",
      "    color: #415EBF;\n",
      "    text-align: center;\n",
      "    line-height: 1.2;\n",
      "}\n",
      "\n",
      ".rendered_html h4 {\n",
      "    margin: 1.1em 0em 0.5em;\n",
      "    color: #878383;\n",
      "    line-height: 1.2;\n",
      "}\n",
      "\n",
      ".rendered_html h5 {\n",
      "    margin: 1.1em 0em 0.5em;\n",
      "    text-align: center;\n",
      "    line-height: 1.1;\n",
      "}\n",
      "\n",
      ".rendered_html li {\n",
      "    line-height: 1.5; \n",
      "}\n",
      "\n",
      ".rendered_html p {\n",
      "    text-align: center;\n",
      "}\n",
      "\n",
      ".prompt {\n",
      "    font-size: 120%; \n",
      "}\n",
      "\n",
      ".CodeMirror-lines {\n",
      "    font-size: 120%; \n",
      "}\n",
      "\n",
      ".output_area {\n",
      "    font-size: 120%; \n",
      "}\n",
      "\n",
      "#notebook {\n",
      "    \n",
      "}\n",
      "\n",
      "</style>\n",
      "\"\"\"\n",
      "display(HTML(s))"
     ],
     "language": "python",
     "metadata": {
      "slideshow": {
       "slide_type": "skip"
      }
     },
     "outputs": [
      {
       "html": [
        "\n",
        "\n",
        "<style>\n",
        "\n",
        ".rendered_html {\n",
        "    font-family: \"proxima-nova\", helvetica;\n",
        "    font-size: 150%;\n",
        "    line-height: 1.3;\n",
        "}\n",
        "\n",
        ".rendered_html h1 {\n",
        "    margin: 0.25em 0em 0.5em;\n",
        "    color: #349675;\n",
        "    text-align: center;\n",
        "    line-height: 1.2; \n",
        "    page-break-before: always;\n",
        "}\n",
        "\n",
        ".rendered_html h2 {\n",
        "    margin: 1.1em 0em 0.5em;\n",
        "    color: #415EBF;\n",
        "    text-align: center;\n",
        "    line-height: 1.2;\n",
        "}\n",
        "\n",
        ".rendered_html h4 {\n",
        "    margin: 1.1em 0em 0.5em;\n",
        "    color: #878383;\n",
        "    line-height: 1.2;\n",
        "}\n",
        "\n",
        ".rendered_html h5 {\n",
        "    margin: 1.1em 0em 0.5em;\n",
        "    text-align: center;\n",
        "    line-height: 1.1;\n",
        "}\n",
        "\n",
        ".rendered_html li {\n",
        "    line-height: 1.5; \n",
        "}\n",
        "\n",
        ".rendered_html p {\n",
        "    text-align: center;\n",
        "}\n",
        "\n",
        ".prompt {\n",
        "    font-size: 120%; \n",
        "}\n",
        "\n",
        ".CodeMirror-lines {\n",
        "    font-size: 120%; \n",
        "}\n",
        "\n",
        ".output_area {\n",
        "    font-size: 120%; \n",
        "}\n",
        "\n",
        "#notebook {\n",
        "    \n",
        "}\n",
        "\n",
        "</style>\n"
       ],
       "metadata": {},
       "output_type": "display_data",
       "text": [
        "<IPython.core.display.HTML at 0x7ff1d520cf10>"
       ]
      }
     ],
     "prompt_number": 16
    },
    {
     "cell_type": "code",
     "collapsed": false,
     "input": [],
     "language": "python",
     "metadata": {},
     "outputs": []
    }
   ],
   "metadata": {}
  }
 ]
}