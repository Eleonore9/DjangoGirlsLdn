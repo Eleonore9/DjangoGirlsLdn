{
 "metadata": {
  "name": "",
  "signature": "sha256:380058e484746da1c0176065d403f39451222fb278d2aeb877dbe35acd0716c0"
 },
 "nbformat": 3,
 "nbformat_minor": 0,
 "worksheets": []
}