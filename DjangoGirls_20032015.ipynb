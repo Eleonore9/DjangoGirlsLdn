{
 "metadata": {
  "celltoolbar": "Slideshow",
  "name": "",
  "signature": "sha256:17ee14ef37e6e2ee4d9db82b40314b6a18d0a9b5028f90b84aceaa33da128d60"
 },
 "nbformat": 3,
 "nbformat_minor": 0,
 "worksheets": [
  {
   "cells": [
    {
     "cell_type": "code",
     "collapsed": false,
     "input": [
      "from IPython.display import display, HTML, IFrame"
     ],
     "language": "python",
     "metadata": {
      "slideshow": {
       "slide_type": "skip"
      }
     },
     "outputs": [],
     "prompt_number": 23
    },
    {
     "cell_type": "markdown",
     "metadata": {
      "slideshow": {
       "slide_type": "slide"
      }
     },
     "source": [
      "#So you wanna work with computers\n",
      "\n",
      "\n",
      "##(Not all web developers)\n",
      "\n",
      "\n",
      "<br>\n",
      "#####Eleonore Mayola\n",
      "\n",
      "@EleonoreMayola\n",
      "\n",
      "co-organiser at @PyLadiesLondon\n",
      "\n",
      "\n",
      "\n",
      "<iframe width='600' height='300' src='https://openspending.org/financial_aid/embed?widget=bubbletree&state=%7B%22drilldowns%22%3A%5B%22country%22%2C%22aid%22%5D%2C%22cuts%22%3A%7B%7D%2C%22year%22%3A1912%7D&width=600&height=300' frameborder='0'></iframe>"
     ]
    },
    {
     "cell_type": "markdown",
     "metadata": {
      "slideshow": {
       "slide_type": "slide"
      }
     },
     "source": [
      "##Yes, everyone can learn to code!\n",
      "\n",
      "<h4 class=\"center\">-> hobby or (part of) your job</h4>\n",
      "<br>\n",
      "\n",
      "I learned > 2 years ago at @Hackbright Academy\n",
      "\n",
      "I'm currently a Data Scientist @MastodonC\n"
     ]
    },
    {
     "cell_type": "markdown",
     "metadata": {
      "slideshow": {
       "slide_type": "slide"
      }
     },
     "source": [
      "##People working with computers are:\n",
      "<br>\n",
      "<h4 class=\"left\">-> Web devs, web designers, software eng (desktop, mobile, games...), QA, devOps, Sys Admin,  Hardware eng, Data engineers, Data Analysts/Scientists...</h4>\n"
     ]
    },
    {
     "cell_type": "markdown",
     "metadata": {
      "slideshow": {
       "slide_type": "slide"
      }
     },
     "source": [
      "##Data is in the air!\n",
      "<br>\n",
      "<h4 class=\"left\">-> Data Scientist has become the \"sexiest\" job title</h4>\n",
      "<h4 class=\"left\">-> ... but what is it really?</h4>\n",
      "\n",
      "\n",
      ">>\"It's a high-ranking professional with the training and curiosity to make \n",
      "discoveries in the world of big data.\" \n",
      "\n",
      "      - Thomas H. Davenport & D.J. Patil, Harvard Business Review, issue October 2012\n"
     ]
    },
    {
     "cell_type": "markdown",
     "metadata": {
      "slideshow": {
       "slide_type": "slide"
      }
     },
     "source": [
      "##So basically a data scientist:\n",
      "<br>\n",
      "<h4 class=\"left\">-> makes sense of data to get insights / trends.</h4>\n",
      "<h4 class=\"left\">-> makes predictions based on data anlysis.</h4>\n",
      "<h4 class=\"left\">-> uses Python and/or R, Javascript (d3.js, leaflet.js).</h4>\n",
      "<br>\n",
      "<p class=\"left\"> Python scientific libraries: SciPy, NumPy, Pandas, Nltk, Matplotlib.</p>"
     ]
    },
    {
     "cell_type": "markdown",
     "metadata": {
      "slideshow": {
       "slide_type": "slide"
      }
     },
     "source": [
      "##What I like\n",
      "<br>\n",
      "**Data is everywhere**. \n",
      "It's generated continuously.\n",
      "\n",
      "<h4 class=\"left\">-> You can use it to have fun, solve problems, improve businesses, generate art...</h4>\n",
      "\n",
      "<h4 class=\"left\">-> Data is more and more open.</h4>\n",
      "<h4 class=\"left\">-> Internet of Things means more sensors and therefore more data!</h4>\n"
     ]
    },
    {
     "cell_type": "markdown",
     "metadata": {
      "slideshow": {
       "slide_type": "slide"
      }
     },
     "source": [
      "##Thank you##\n",
      "<br>\n",
      "####You can find me -> @EleonoreMayola\n",
      "\n",
      "######Resources:\n",
      "- [hbr.org/2012/10/data-scientist-the-sexiest-job-of-the-21st-century/ar/1](http://hbr.org/2012/10/data-scientist-the-sexiest-job-of-the-21st-century/ar/1)\n",
      "- [blogs.nature.com/naturejobs/2013/03/18/so-you-want-to-be-a-data-scientist](http://blogs.nature.com/naturejobs/2013/03/18/so-you-want-to-be-a-data-scientist)\n",
      "- [Dataquest.io](http://dataquest.io/)\n",
      "    \n",
      "######Join PyLadies London: [meetup.com/pyladieslondon/](http://www.meetup.com/pyladieslondon/) \n",
      "\n",
      "######Also join:\n",
      "* Women in Data\n",
      "* Women Who Code London\n",
      "* Ladies Who Code London\n",
      "* Codebar London\n",
      "* ...\n"
     ]
    },
    {
     "cell_type": "code",
     "collapsed": false,
     "input": [
      "s = \"\"\"\n",
      "\n",
      "<style>\n",
      "\n",
      ".rendered_html {\n",
      "    font-family: \"proxima-nova\", helvetica;\n",
      "    font-size: 150%;\n",
      "    line-height: 1.3;\n",
      "}\n",
      "\n",
      ".rendered_html h1 {\n",
      "    margin: 0.25em 0em 0.5em;\n",
      "    color: #349675;\n",
      "    text-align: center;\n",
      "    line-height: 1.2; \n",
      "    page-break-before: always;\n",
      "}\n",
      "\n",
      ".rendered_html h2 {\n",
      "    margin: 1.1em 0em 0.5em;\n",
      "    color: #415EBF;\n",
      "    text-align: center;\n",
      "    line-height: 1.2;\n",
      "}\n",
      "\n",
      ".rendered_html h4 {\n",
      "    margin-top: 1.2em;\n",
      "    margin-bottom: 1.1em;\n",
      "    color: #878383;\n",
      "    line-height: 1.2;\n",
      "}\n",
      "\n",
      "h4.center {\n",
      "    margin-left: 13em;\n",
      "}\n",
      "\n",
      "h4.left {\n",
      "    margin-left: 9em;\n",
      "}\n",
      "\n",
      ".rendered_html h5 {\n",
      "    margin: 1.1em 0em 0.5em;\n",
      "    text-align: center;\n",
      "    line-height: 1.1;\n",
      "}\n",
      "\n",
      ".rendered_html li {\n",
      "    line-height: 1.5; \n",
      "}\n",
      "\n",
      ".rendered_html p {\n",
      "    text-align: center;\n",
      "}\n",
      "\n",
      ".prompt {\n",
      "    font-size: 120%; \n",
      "}\n",
      "\n",
      ".CodeMirror-lines {\n",
      "    font-size: 120%; \n",
      "}\n",
      "\n",
      ".output_area {\n",
      "    font-size: 120%; \n",
      "}\n",
      "\n",
      "#notebook {\n",
      "    \n",
      "}\n",
      "\n",
      "</style>\n",
      "\"\"\"\n",
      "display(HTML(s))"
     ],
     "language": "python",
     "metadata": {
      "slideshow": {
       "slide_type": "skip"
      }
     },
     "outputs": [
      {
       "html": [
        "\n",
        "\n",
        "<style>\n",
        "\n",
        ".rendered_html {\n",
        "    font-family: \"proxima-nova\", helvetica;\n",
        "    font-size: 150%;\n",
        "    line-height: 1.3;\n",
        "}\n",
        "\n",
        ".rendered_html h1 {\n",
        "    margin: 0.25em 0em 0.5em;\n",
        "    color: #349675;\n",
        "    text-align: center;\n",
        "    line-height: 1.2; \n",
        "    page-break-before: always;\n",
        "}\n",
        "\n",
        ".rendered_html h2 {\n",
        "    margin: 1.1em 0em 0.5em;\n",
        "    color: #415EBF;\n",
        "    text-align: center;\n",
        "    line-height: 1.2;\n",
        "}\n",
        "\n",
        ".rendered_html h4 {\n",
        "    margin-top: 1.2em;\n",
        "    margin-bottom: 1.1em;\n",
        "    color: #878383;\n",
        "    line-height: 1.2;\n",
        "}\n",
        "\n",
        "h4.center {\n",
        "    margin-left: 13em;\n",
        "}\n",
        "\n",
        "h4.left {\n",
        "    margin-left: 9em;\n",
        "}\n",
        "\n",
        ".rendered_html h5 {\n",
        "    margin: 1.1em 0em 0.5em;\n",
        "    text-align: center;\n",
        "    line-height: 1.1;\n",
        "}\n",
        "\n",
        ".rendered_html li {\n",
        "    line-height: 1.5; \n",
        "}\n",
        "\n",
        ".rendered_html p {\n",
        "    text-align: center;\n",
        "}\n",
        "\n",
        ".prompt {\n",
        "    font-size: 120%; \n",
        "}\n",
        "\n",
        ".CodeMirror-lines {\n",
        "    font-size: 120%; \n",
        "}\n",
        "\n",
        ".output_area {\n",
        "    font-size: 120%; \n",
        "}\n",
        "\n",
        "#notebook {\n",
        "    \n",
        "}\n",
        "\n",
        "</style>\n"
       ],
       "metadata": {},
       "output_type": "display_data",
       "text": [
        "<IPython.core.display.HTML at 0x7f53f8037dd0>"
       ]
      }
     ],
     "prompt_number": 35
    },
    {
     "cell_type": "code",
     "collapsed": false,
     "input": [],
     "language": "python",
     "metadata": {},
     "outputs": []
    }
   ],
   "metadata": {}
  }
 ]
}