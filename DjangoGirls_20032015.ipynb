{
 "metadata": {
  "name": "",
  "signature": "sha256:2d178ebc16b93156f2a6d1c390c32e29b40b24183b524539363ab80c00920517"
 },
 "nbformat": 3,
 "nbformat_minor": 0,
 "worksheets": [
  {
   "cells": [
    {
     "cell_type": "markdown",
     "metadata": {},
     "source": [
      "#So you wanna work with computers\n",
      "\n",
      "\n",
      "##(Not all web developers)\n",
      "\n",
      "\n",
      "\n",
      "#####Eleonore Mayola\n",
      "\n",
      "@EleonoreMayola\n",
      "\n",
      "co-organiser at @PyLadiesLondon"
     ]
    },
    {
     "cell_type": "code",
     "collapsed": false,
     "input": [],
     "language": "python",
     "metadata": {},
     "outputs": []
    }
   ],
   "metadata": {}
  }
 ]
}