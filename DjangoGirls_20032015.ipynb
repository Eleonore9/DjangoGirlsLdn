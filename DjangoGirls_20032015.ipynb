{
 "metadata": {
  "name": "",
  "signature": "sha256:513a2151fcf98637feb0549c7e663befb6d828132c774697dd50ecf7ce39e445"
 },
 "nbformat": 3,
 "nbformat_minor": 0,
 "worksheets": [
  {
   "cells": [
    {
     "cell_type": "markdown",
     "metadata": {},
     "source": [
      "#So you wanna work with computers\n",
      "\n",
      "\n",
      "##(Not all web developers)\n",
      "\n",
      "\n",
      "\n",
      "#####Eleonore Mayola\n",
      "\n",
      "@EleonoreMayola\n",
      "\n",
      "co-organiser at @PyLadiesLondon"
     ]
    },
    {
     "cell_type": "markdown",
     "metadata": {},
     "source": [
      "##Yes, everyone can learn to code!\n",
      "\n",
      "####-> hobby or (part of) your job\n",
      "\n",
      "I learned > 2 years ago at @Hackbright Academy\n",
      "I'm currently a *junior* Data Scientist @MastodonC\n"
     ]
    },
    {
     "cell_type": "markdown",
     "metadata": {},
     "source": [
      "##People working with computers are:\n",
      "\n",
      "-> Web devs, web designers, software eng (desktop, mobile, ganes...),\n",
      "QA, DevOps, Sys Admin, Data engineers, Hardware eng, Data Analysts/Scientists...\n"
     ]
    },
    {
     "cell_type": "markdown",
     "metadata": {},
     "source": [
      "##Data is in the air!\n",
      "\n",
      "####-> Data Scientist has become the \"sexiest\" job title\n",
      "####-> ... but what is it really?\n",
      "\n",
      "\n",
      ">\"It's a high-ranking professional with the training and curiosity to make \n",
      "discoveries in the world of big data.\" \n",
      "\n",
      "    - Thomas H. Davenport & D.J. Patil, Harvard Business Review, issue October 2012\n"
     ]
    },
    {
     "cell_type": "markdown",
     "metadata": {},
     "source": [
      "##So basically a data scientist:\n",
      "\n",
      "####-> makes sense of data to get insights / trends.\n",
      "####-> makes predictions based on data anlysis.\n"
     ]
    },
    {
     "cell_type": "markdown",
     "metadata": {},
     "source": [
      "##What I like\n",
      "\n",
      "**Data is everywhere**. \n",
      "It's generated continuously.\n",
      "\n",
      "You can use it to have fun, solve problems, improve businesses, generate art...\n",
      "\n",
      "Data is more and more open.\n",
      "Internet of Things means more sensors and therefore more data!\n"
     ]
    },
    {
     "cell_type": "markdown",
     "metadata": {},
     "source": [
      "##Thank you##\n",
      "\n",
      "####You can find me -> @EleonoreMayola\n",
      "\n",
      "Resources:\n",
      "- [hbr.org/2012/10/data-scientist-the-sexiest-job-of-the-21st-century/ar/1](http://hbr.org/2012/10/data-scientist-the-sexiest-job-of-the-21st-century/ar/1)\n",
      "- [blogs.nature.com/naturejobs/2013/03/18/so-you-want-to-be-a-data-scientist](http://blogs.nature.com/naturejobs/2013/03/18/so-you-want-to-be-a-data-scientist)\n",
      "- [Dataquest.io](http://dataquest.io/)\n",
      "    \n",
      "**Join PyLadies London: [meetup.com/pyladieslondon/](http://www.meetup.com/pyladieslondon/) **\n",
      "\n",
      "Also join:\n",
      "* Women in Data\n",
      "* Women Who Code London\n",
      "* Ladies Who Code London\n",
      "* Codebar London\n",
      "* ...\n"
     ]
    },
    {
     "cell_type": "code",
     "collapsed": false,
     "input": [],
     "language": "python",
     "metadata": {},
     "outputs": []
    }
   ],
   "metadata": {}
  }
 ]
}